{
 "cells": [
  {
   "cell_type": "markdown",
   "metadata": {},
   "source": [
    "# OPPE_2: Mock Problem 1"
   ]
  },
  {
   "cell_type": "code",
   "execution_count": 3,
   "metadata": {},
   "outputs": [],
   "source": [
    "def count_peaks(heights):\n",
    "    # Initialize a counter to keep track of the number of peaks\n",
    "    peak_count = 0\n",
    "\n",
    "    # Loop through the list of heights excluding the first and last elements\n",
    "    for i in range(1, len(heights) - 1):\n",
    "        # Check if the current height is a peak (higher than its neighbors)\n",
    "        if heights[i - 1] < heights[i] > heights[i + 1]:\n",
    "            # Increment the peak counter\n",
    "            peak_count += 1\n",
    "\n",
    "    # Return the total count of peaks\n",
    "    return peak_count"
   ]
  },
  {
   "cell_type": "code",
   "execution_count": 4,
   "metadata": {},
   "outputs": [
    {
     "name": "stdout",
     "output_type": "stream",
     "text": [
      "Number of peaks: 2\n"
     ]
    }
   ],
   "source": [
    "# Given list of heights\n",
    "heights = [1, 2, 3, 2, 1, 2, 5, 7, 4, 3, 8, 9]\n",
    "\n",
    "# Call the function and print the result\n",
    "print(\"Number of peaks:\", count_peaks(heights))"
   ]
  },
  {
   "cell_type": "markdown",
   "metadata": {},
   "source": [
    "# OPPE_2: Mock Problem 2"
   ]
  },
  {
   "cell_type": "code",
   "execution_count": 5,
   "metadata": {},
   "outputs": [],
   "source": [
    "def interchange(M, a, b, axis):\n",
    "    # Check if axis is 0 (rows) or 1 (columns) for swapping\n",
    "    if axis == 0:\n",
    "        # Swap rows a and b\n",
    "        M[a], M[b] = M[b], M[a]\n",
    "    elif axis == 1:\n",
    "        # Iterate through each row and swap columns a and b\n",
    "        for row in M:\n",
    "            row[a], row[b] = row[b], row[a]\n",
    "\n",
    "    # Return the updated matrix after swapping\n",
    "    return M"
   ]
  },
  {
   "cell_type": "code",
   "execution_count": 7,
   "metadata": {},
   "outputs": [
    {
     "name": "stdout",
     "output_type": "stream",
     "text": [
      "[[1, 3, 2, 4], [11, 33, 22, 55]]\n"
     ]
    }
   ],
   "source": [
    "# Sample Input 2\n",
    "M1 = [[1, 2, 3, 4], [11, 22, 33, 55]]\n",
    "a1 = 1\n",
    "b1 = 2\n",
    "axis1 = 1\n",
    "print(interchange(M1, a1, b1, axis1))"
   ]
  },
  {
   "cell_type": "code",
   "execution_count": 6,
   "metadata": {},
   "outputs": [
    {
     "name": "stdout",
     "output_type": "stream",
     "text": [
      "[[11, 22, 33, 55], [1, 2, 3, 4]]\n"
     ]
    }
   ],
   "source": [
    "# Sample Input 1\n",
    "M2 = [[1, 2, 3, 4], [11, 22, 33, 55]]\n",
    "a2 = 0\n",
    "b2 = 1\n",
    "axis2 = 0\n",
    "print(interchange(M2, a2, b2, axis2))"
   ]
  },
  {
   "cell_type": "markdown",
   "metadata": {},
   "source": [
    "# OPPE_2: Mock Problem 3"
   ]
  },
  {
   "cell_type": "code",
   "execution_count": 5,
   "metadata": {},
   "outputs": [],
   "source": [
    "def improvement(filename):\n",
    "    # Read the contents of the CSV file, split by lines, and skip the header\n",
    "    lines = open(filename, 'r').read().split('\\n')[1:]\n",
    "\n",
    "    # Split each line into a list of values using comma as the delimiter\n",
    "    data = [line.split(',') for line in lines]\n",
    "\n",
    "    # 🚩\n",
    "\n",
    "    # Initialize a count to keep track of students with improved scores\n",
    "    count = 0\n",
    "\n",
    "    # Iterate through each student's data\n",
    "    for row in data:\n",
    "        # Extract scores for CT, Python, and PDSA\n",
    "        ct_score = int(row[2])\n",
    "        python_score = int(row[3])\n",
    "        pdsa_score = int(row[4])\n",
    "\n",
    "        # Check if the scores are in the required order\n",
    "        if ct_score < python_score < pdsa_score:\n",
    "            count += 1\n",
    "\n",
    "    # Return the count of students with improved scores\n",
    "    return count"
   ]
  },
  {
   "cell_type": "code",
   "execution_count": 4,
   "metadata": {},
   "outputs": [
    {
     "name": "stdout",
     "output_type": "stream",
     "text": [
      "8\n"
     ]
    }
   ],
   "source": [
    "data = [row.split(',') for row in open(\n",
    "    'Oppe_2MockProblem_3.csv').read().split('\\n')][1:]\n",
    "\n",
    "count = 0\n",
    "\n",
    "for row in data:\n",
    "    ct = int(row[2])\n",
    "    py = int(row[3])\n",
    "    pdsa = int(row[4])\n",
    "\n",
    "    if ct < py < pdsa:\n",
    "        count += 1\n",
    "\n",
    "print(count)"
   ]
  },
  {
   "cell_type": "code",
   "execution_count": 9,
   "metadata": {},
   "outputs": [
    {
     "name": "stdout",
     "output_type": "stream",
     "text": [
      "Number of students with improved scores: 8\n"
     ]
    }
   ],
   "source": [
    "# Call the function with the given filename\n",
    "result = improvement('Oppe_2MockProblem_3.csv')\n",
    "print(\"Number of students with improved scores:\", result)"
   ]
  },
  {
   "cell_type": "markdown",
   "metadata": {},
   "source": [
    "# OPPE_2: Mock Problem 4"
   ]
  },
  {
   "cell_type": "code",
   "execution_count": 10,
   "metadata": {},
   "outputs": [],
   "source": [
    "def insert(L, x):\n",
    "    # Find the position where x should be inserted by checking from the end\n",
    "    position_to_insert = len(L) - 1\n",
    "\n",
    "    # While the position is >= 0 and the value at that position is greater than x\n",
    "    while position_to_insert >= 0 and L[position_to_insert] > x:\n",
    "        position_to_insert -= 1\n",
    "\n",
    "    # Insert x at the correct position, which is just after the smaller element\n",
    "    L.insert(position_to_insert + 1, x)\n",
    "\n",
    "    return L"
   ]
  },
  {
   "cell_type": "code",
   "execution_count": 11,
   "metadata": {},
   "outputs": [
    {
     "data": {
      "text/plain": [
       "[1, 3, 4, 5, 7, 9]"
      ]
     },
     "execution_count": 11,
     "metadata": {},
     "output_type": "execute_result"
    }
   ],
   "source": [
    "insert([1, 3, 5, 7, 9], 4)"
   ]
  },
  {
   "cell_type": "markdown",
   "metadata": {},
   "source": [
    "### Let's go step by step through the example `insert([1, 3, 5, 7, 9], 4)`:"
   ]
  },
  {
   "cell_type": "markdown",
   "metadata": {},
   "source": [
    "👉 Original List: `[1, 3, 5, 7, 9]`\n",
    "\n",
    "👉 Value to Insert: `4`\n",
    "\n",
    "👉 The algorithm checks each element in the original sorted list, moving from right to left, until it finds the correct position to insert the value `4`.\n",
    "\n",
    "👉 In this case, the value `4` should be inserted after the element `3`, resulting in the sorted list `[1, 3, 4, 5, 7, 9]`."
   ]
  },
  {
   "cell_type": "markdown",
   "metadata": {},
   "source": [
    "### 🔰 The algorithm:\n",
    "\n",
    "1. Initialize `position_to_insert` to the last index (4) of the list.\n",
    "\n",
    "---\n",
    "2. **1st Iteration of the While Loop:**\n",
    "   - `position_to_insert` is 4.\n",
    "   - Check if the value at index 4 (`9`) is greater than 4. *It is.*\n",
    "   - Decrement `position_to_insert` to 3.\n",
    "---\n",
    "3. **2nd Iteration of the While Loop:**\n",
    "   - `position_to_insert` is 3.\n",
    "   - Check if the value at index 3 (`7`) is greater than 4. *It is.*\n",
    "   - Decrement `position_to_insert` to 2.\n",
    "---\n",
    "4. **3rd Iteration of the While Loop:**\n",
    "   - `position_to_insert` is 2.\n",
    "   - Check if the value at index 2 (`5`) is greater than 4. *It is.*\n",
    "   - Decrement `position_to_insert` to 1.\n",
    "---\n",
    "5. **4th Iteration of the While Loop:**\n",
    "   - `position_to_insert` is 1.\n",
    "   - Check if the value at index 1 (`3`) is greater than 4. *It's not*.\n",
    "   - Loop condition is not satisfied.\n",
    "   - Exit the While Loop.\n",
    "---\n",
    "8. Insert `4` at the index `position_to_insert + 1`, which is 2. This means inserting `4` after the element `3`.\n",
    "---\n",
    "Final Result: `[1, 3, 4, 5, 7, 9]`"
   ]
  },
  {
   "cell_type": "code",
   "execution_count": 12,
   "metadata": {},
   "outputs": [],
   "source": [
    "def isort(L):\n",
    "    if len(L) <= 1:\n",
    "        return L\n",
    "\n",
    "    # Sort the sublist except the last element\n",
    "    sorted_sublist = isort(L[:-1])\n",
    "\n",
    "    # Insert the last element into the sorted sublist\n",
    "    sorted_list = insert(sorted_sublist, L[-1])\n",
    "\n",
    "    return sorted_list"
   ]
  },
  {
   "cell_type": "code",
   "execution_count": 13,
   "metadata": {},
   "outputs": [
    {
     "data": {
      "text/plain": [
       "[1, 3, 5, 7, 9]"
      ]
     },
     "execution_count": 13,
     "metadata": {},
     "output_type": "execute_result"
    }
   ],
   "source": [
    "isort([7, 3, 1, 9, 5])"
   ]
  },
  {
   "cell_type": "markdown",
   "metadata": {},
   "source": [
    "### Let's go step by step through the example `isort([7, 3, 1, 9, 5])`:"
   ]
  },
  {
   "cell_type": "markdown",
   "metadata": {},
   "source": [
    "👉 List to Sort: `[7, 3, 1, 9, 5]`\n",
    "\n",
    "👉 `isort` function uses recursion to sort the list.\n",
    "\n",
    "👉 At each step of the recursion, the last element is removed and the rest of the list is sorted.\n",
    "\n",
    "👉 The removed element is then inserted back into the sorted sublist using the `insert` function. This process continues until the entire list is sorted."
   ]
  },
  {
   "cell_type": "markdown",
   "metadata": {},
   "source": [
    "### 🔰 The algorithm:\n",
    "\n",
    "1. **Initial Call to isort:**\n",
    "   - The function is called with the list `[7, 3, 1, 9, 5]`.\n",
    "---\n",
    "2. **Recursion Step 1:**\n",
    "   - The last element `5` is removed from the list, and `isort([7, 3, 1, 9])` is called.\n",
    "---   \n",
    "3. **Recursion Step 2:**\n",
    "   - The last element `9` is removed from the list, and `isort([7, 3, 1])` is called.\n",
    "---\n",
    "4. **Recursion Step 3:**\n",
    "   - The last element `1` is removed from the list, and `isort([7, 3])` is called.\n",
    "---\n",
    "5. **Recursion Step 4:**\n",
    "   - The last element `3` is removed from the list, and `isort([7])` is called.\n",
    "---\n",
    "6. **Base Case (Recursion Bottoms Out):**\n",
    "   - The list `[7]` contains only one element, so it's already sorted. The base case is reached, and `[7]` is returned.\n",
    "---\n",
    "7. **Returning to Previous Recursion Step 4:**\n",
    "   - The sorted list `[7]` is received back.\n",
    "   - `3` is inserted into the sorted list `[7]` using `insert([7], 3)`, resulting in `[3, 7]`.\n",
    "---\n",
    "8. **Returning to Previous Recursion Step 3:**\n",
    "   - The sorted list `[3, 7]` is received back.\n",
    "   - `1` is inserted into the sorted list `[3, 7]` using `insert([3, 7], 1)`, resulting in `[1, 3, 7]`.\n",
    "---\n",
    "9. **Returning to Previous Recursion Step 2:**\n",
    "   - The sorted list `[1, 3, 7]` is received back.\n",
    "   - `9` is inserted into the sorted list `[1, 3, 7]` using `insert([1, 3, 7], 9)`, resulting in `[1, 3, 7, 9]`.\n",
    "---\n",
    "10. **Returning to Previous Recursion Step 1:**\n",
    "   - The sorted list `[1, 3, 7, 9]` is received back.\n",
    "   - `5` is inserted into the sorted list `[1, 3, 7, 9]` using `insert([1, 3, 7, 9], 5)`, resulting in `[1, 3, 5, 7, 9]`.\n",
    "---\n",
    "11. **Returning to the Initial Call:**\n",
    "   - The sorted list `[1, 3, 5, 7, 9]` is received back.\n",
    "---\n",
    "Final Result: `[1, 3, 5, 7, 9]`"
   ]
  }
 ],
 "metadata": {
  "kernelspec": {
   "display_name": "Python 3 (ipykernel)",
   "language": "python",
   "name": "python3"
  },
  "language_info": {
   "codemirror_mode": {
    "name": "ipython",
    "version": 3
   },
   "file_extension": ".py",
   "mimetype": "text/x-python",
   "name": "python",
   "nbconvert_exporter": "python",
   "pygments_lexer": "ipython3",
   "version": "3.11.4"
  }
 },
 "nbformat": 4,
 "nbformat_minor": 4
}
