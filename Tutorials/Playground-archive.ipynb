{
 "cells": [
  {
   "cell_type": "code",
   "execution_count": 1,
   "metadata": {},
   "outputs": [],
   "source": [
    "# fruits = ['apple', 'banana', 'cherry']\n",
    "\n",
    "# enumerate(fruits)\n",
    "\n",
    "# list(enumerate(fruits))\n",
    "\n",
    "# for element in enumerate(fruits):\n",
    "#     print(element)\n",
    "\n",
    "# [\n",
    "#     f'sweet {fruit} is at cubic index {index ** 3}' for index, fruit in enumerate(fruits)\n",
    "# ]\n",
    "\n",
    "# {\n",
    "#     f'sweet {fruit}': index ** 3 for index, fruit in enumerate(fruits)\n",
    "# }"
   ]
  },
  {
   "cell_type": "code",
   "execution_count": 2,
   "metadata": {},
   "outputs": [],
   "source": [
    "# parent_list = [\n",
    "#     [1, 2, 3],\n",
    "#     [4, 5, 6]\n",
    "# ]\n",
    "\n",
    "# list(\n",
    "#     reversed(parent_list)\n",
    "# )\n",
    "\n",
    "# list(\n",
    "#     reversed([list(reversed(sublist)) for sublist in parent_list])\n",
    "# )"
   ]
  },
  {
   "cell_type": "code",
   "execution_count": 3,
   "metadata": {},
   "outputs": [],
   "source": [
    "def rotate(mat):\n",
    "    # Initialize an empty list to store the rotated matrix\n",
    "    rotated = []\n",
    "\n",
    "    # Iterate through each column index of the input matrix\n",
    "    for i in range(len(mat[0])):\n",
    "        # Initialize an empty list to construct the rotated column\n",
    "        column = []\n",
    "\n",
    "        # Traverse each row in the matrix to extract values for the current column\n",
    "        for row in mat:\n",
    "            column.append(row[i])\n",
    "\n",
    "        # Append the reversed column to the rotated matrix\n",
    "        rotated.append(list(reversed(column)))\n",
    "\n",
    "    # Return the rotated matrix\n",
    "    return rotated"
   ]
  },
  {
   "cell_type": "code",
   "execution_count": 4,
   "metadata": {},
   "outputs": [],
   "source": [
    "mat = [\n",
    "    [1, 2, 3],\n",
    "    [4, 5, 6],\n",
    "    [7, 8, 9],\n",
    "]"
   ]
  },
  {
   "cell_type": "code",
   "execution_count": 5,
   "metadata": {},
   "outputs": [
    {
     "data": {
      "text/plain": [
       "[[1, 4, 7], [2, 5, 8], [3, 6, 9]]"
      ]
     },
     "execution_count": 5,
     "metadata": {},
     "output_type": "execute_result"
    }
   ],
   "source": [
    "transposed = [\n",
    "    [row[i] for row in mat] for i in range(3)\n",
    "]\n",
    "\n",
    "transposed"
   ]
  },
  {
   "cell_type": "code",
   "execution_count": 6,
   "metadata": {},
   "outputs": [
    {
     "data": {
      "text/plain": [
       "[[7, 4, 1], [8, 5, 2], [9, 6, 3]]"
      ]
     },
     "execution_count": 6,
     "metadata": {},
     "output_type": "execute_result"
    }
   ],
   "source": [
    "rotated = [list(reversed(row)) for row in transposed]\n",
    "\n",
    "rotated"
   ]
  },
  {
   "cell_type": "code",
   "execution_count": 7,
   "metadata": {},
   "outputs": [
    {
     "data": {
      "text/plain": [
       "[[7, 4, 1], [8, 5, 2], [9, 6, 3]]"
      ]
     },
     "execution_count": 7,
     "metadata": {},
     "output_type": "execute_result"
    }
   ],
   "source": [
    "rotated = [\n",
    "    list(reversed([row[i] for row in mat])) for i in range(3)\n",
    "]\n",
    "\n",
    "rotated"
   ]
  },
  {
   "cell_type": "code",
   "execution_count": 8,
   "metadata": {},
   "outputs": [
    {
     "data": {
      "text/plain": [
       "[('Sam', 69), ('Anirudh', 70), ('Sachin', 70), ('Anita', 80)]"
      ]
     },
     "execution_count": 8,
     "metadata": {},
     "output_type": "execute_result"
    }
   ],
   "source": [
    "def is_tup1_less_than_tup2(tup1, tup2):\n",
    "    name1, mark1 = tup1\n",
    "    name2, mark2 = tup2\n",
    "\n",
    "    if mark1 < mark2:\n",
    "        return True\n",
    "\n",
    "    if mark1 > mark2:\n",
    "        return False\n",
    "\n",
    "    return name1 < name2\n",
    "\n",
    "\n",
    "def get_min_tup(scores):\n",
    "    mini_tup = scores[0]\n",
    "    for tup in scores:\n",
    "        if is_tup1_less_than_tup2(tup, mini_tup):\n",
    "            mini_tup = tup\n",
    "\n",
    "    return mini_tup\n",
    "\n",
    "\n",
    "scores = [\n",
    "    ('Sachin', 70),\n",
    "    ('Sam', 69),\n",
    "    ('Anirudh', 70),\n",
    "    ('Anita', 80)\n",
    "]\n",
    "sorted_scores = []\n",
    "while scores:\n",
    "    mini = get_min_tup(scores)\n",
    "    scores.remove(mini)\n",
    "    sorted_scores.append(mini)\n",
    "\n",
    "sorted_scores"
   ]
  },
  {
   "cell_type": "code",
   "execution_count": 9,
   "metadata": {},
   "outputs": [
    {
     "data": {
      "text/plain": [
       "(90, 10, 5)"
      ]
     },
     "execution_count": 9,
     "metadata": {},
     "output_type": "execute_result"
    }
   ],
   "source": [
    "x = 10\n",
    "y = 5\n",
    "z = 90\n",
    "x, y, z = z, x, y\n",
    "\n",
    "(x, y, z)"
   ]
  },
  {
   "cell_type": "code",
   "execution_count": 10,
   "metadata": {},
   "outputs": [],
   "source": [
    "M2 = [[1, 2, 3, 4], [11, 22, 33, 55]]"
   ]
  },
  {
   "cell_type": "code",
   "execution_count": 11,
   "metadata": {},
   "outputs": [
    {
     "data": {
      "text/plain": [
       "[[11, 22, 33, 55], [1, 2, 3, 4]]"
      ]
     },
     "execution_count": 11,
     "metadata": {},
     "output_type": "execute_result"
    }
   ],
   "source": [
    "M2[0], M2[1] = M2[1], M2[0]\n",
    "\n",
    "M2"
   ]
  },
  {
   "cell_type": "code",
   "execution_count": 12,
   "metadata": {},
   "outputs": [],
   "source": [
    "M2 = [[1, 2, 3, 4], [11, 22, 33, 55]]"
   ]
  },
  {
   "cell_type": "code",
   "execution_count": 13,
   "metadata": {},
   "outputs": [],
   "source": [
    "for row in M2:\n",
    "    row[1], row[2] = row[2], row[1]"
   ]
  },
  {
   "cell_type": "code",
   "execution_count": 14,
   "metadata": {},
   "outputs": [
    {
     "data": {
      "text/plain": [
       "[[1, 3, 2, 4], [11, 33, 22, 55]]"
      ]
     },
     "execution_count": 14,
     "metadata": {},
     "output_type": "execute_result"
    }
   ],
   "source": [
    "M2"
   ]
  },
  {
   "cell_type": "code",
   "execution_count": 15,
   "metadata": {},
   "outputs": [],
   "source": [
    "# r: read\n",
    "# w: write\n",
    "# a: append\n",
    "f = open('example.txt', 'a')\n",
    "\n",
    "f.write('Hello Sanika! ok\\n')\n",
    "f.close()"
   ]
  },
  {
   "cell_type": "code",
   "execution_count": 16,
   "metadata": {},
   "outputs": [
    {
     "data": {
      "text/plain": [
       "[['Name', 'Age', 'Email'],\n",
       " ['Alice Johnson', '32', 'alice@example.com'],\n",
       " ['Bob Smith', '28', 'bob@example.com'],\n",
       " ['Catherine Brown', '45', 'catherine@example.com'],\n",
       " ['David Wilson', '22', 'david@example.com'],\n",
       " ['Emily Martinez', '29', 'emily@example.com'],\n",
       " ['Frank Jones', '37', 'frank@example.com'],\n",
       " ['Grace Davis', '26', 'grace@example.com'],\n",
       " ['Henry Taylor', '33', 'henry@example.com'],\n",
       " ['Isabel Miller', '40', 'isabel@example.com'],\n",
       " ['Jack White', '24', 'jack@example.com'],\n",
       " ['Karen J Harris', '29', 'karen@example.com'],\n",
       " ['Liam Thomas', '31', 'liam@example.com'],\n",
       " ['Megan Jackson', '27', 'megan@example.com'],\n",
       " ['Nathan Clark', '36', 'nathan@example.com'],\n",
       " ['Olivia Lee', '23', 'olivia@example.com'],\n",
       " ['Patrick Johnson', '38', 'patrick@example.com'],\n",
       " ['Quincy Anderson', '30', 'quincy@example.com'],\n",
       " ['Rachel Brown', '34', 'rachel@example.com'],\n",
       " ['Samuel Walker', '25', 'samuel@example.com'],\n",
       " ['Taylor Hall', '28', 'taylor@example.com']]"
      ]
     },
     "execution_count": 16,
     "metadata": {},
     "output_type": "execute_result"
    }
   ],
   "source": [
    "def parse_csv(filename):\n",
    "    # Initialize an empty list to store the parsed data\n",
    "    parsed_data = []\n",
    "\n",
    "    # Open the CSV file for reading\n",
    "    with open(filename, \"r\") as file:\n",
    "        # Iterate through each line in the file\n",
    "        for line in file:\n",
    "            # Remove leading/trailing whitespaces, split the line by commas\n",
    "            # and create a row as a list of values\n",
    "            row = line.strip().split(\",\")\n",
    "\n",
    "            # Append the row to the parsed_data list\n",
    "            parsed_data.append(row)\n",
    "\n",
    "    # Return the parsed data\n",
    "    return parsed_data\n",
    "\n",
    "\n",
    "# Example usage\n",
    "csv_filename = \"data.csv\"\n",
    "parse_csv(csv_filename)"
   ]
  },
  {
   "cell_type": "code",
   "execution_count": 17,
   "metadata": {},
   "outputs": [
    {
     "data": {
      "text/plain": [
       "[['Name', 'Age', 'Email'],\n",
       " ['Alice Johnson', '32', 'alice@example.com'],\n",
       " ['Bob Smith', '28', 'bob@example.com'],\n",
       " ['Catherine Brown', '45', 'catherine@example.com'],\n",
       " ['David Wilson', '22', 'david@example.com'],\n",
       " ['Emily Martinez', '29', 'emily@example.com'],\n",
       " ['Frank Jones', '37', 'frank@example.com'],\n",
       " ['Grace Davis', '26', 'grace@example.com'],\n",
       " ['Henry Taylor', '33', 'henry@example.com'],\n",
       " ['Isabel Miller', '40', 'isabel@example.com'],\n",
       " ['Jack White', '24', 'jack@example.com'],\n",
       " ['Karen J Harris', '29', 'karen@example.com'],\n",
       " ['Liam Thomas', '31', 'liam@example.com'],\n",
       " ['Megan Jackson', '27', 'megan@example.com'],\n",
       " ['Nathan Clark', '36', 'nathan@example.com'],\n",
       " ['Olivia Lee', '23', 'olivia@example.com'],\n",
       " ['Patrick Johnson', '38', 'patrick@example.com'],\n",
       " ['Quincy Anderson', '30', 'quincy@example.com'],\n",
       " ['Rachel Brown', '34', 'rachel@example.com'],\n",
       " ['Samuel Walker', '25', 'samuel@example.com'],\n",
       " ['Taylor Hall', '28', 'taylor@example.com'],\n",
       " ['']]"
      ]
     },
     "execution_count": 17,
     "metadata": {},
     "output_type": "execute_result"
    }
   ],
   "source": [
    "data = [row.split(',') for row in open('data.csv').read().split('\\n')]\n",
    "\n",
    "data"
   ]
  },
  {
   "cell_type": "code",
   "execution_count": 18,
   "metadata": {},
   "outputs": [
    {
     "data": {
      "text/plain": [
       "1"
      ]
     },
     "execution_count": 18,
     "metadata": {},
     "output_type": "execute_result"
    }
   ],
   "source": [
    "def check_zero(L):\n",
    "    if len(L) == 0:\n",
    "        return 0\n",
    "    if L[0] == 0:\n",
    "        return 1\n",
    "    return check_zero(L[1:])\n",
    "\n",
    "\n",
    "check_zero([1, 0, 2, 3])"
   ]
  },
  {
   "cell_type": "code",
   "execution_count": 19,
   "metadata": {},
   "outputs": [],
   "source": [
    "def spiral_iterative(left, right, n):\n",
    "    \"\"\"\n",
    "    Calculate the x-coordinate of the endpoint of the nth arm using an iterative approach.\n",
    "\n",
    "    Args:\n",
    "        left (float): The x-coordinate of the starting point of the current arm.\n",
    "        right (float): The x-coordinate of the endpoint of the previous arm.\n",
    "        n (int): The number of arms in the spiral.\n",
    "\n",
    "    Returns:\n",
    "        float: The x-coordinate of the endpoint of the nth arm.\n",
    "    \"\"\"\n",
    "    for i in range(n):\n",
    "        # Calculate the midpoint between the current left and right endpoints\n",
    "        mid = (left + right) / 2\n",
    "\n",
    "        # Update left and right endpoints for the next arm\n",
    "        left, right = right, mid\n",
    "\n",
    "    # Return the correct x-coordinate based on the parity of n\n",
    "    return left if n % 2 == 0 else right\n",
    "\n",
    "\n",
    "def spiral_recursive(left, right, n):\n",
    "    \"\"\"\n",
    "    Calculate the x-coordinate of the endpoint of the nth arm using a recursive approach.\n",
    "\n",
    "    Args:\n",
    "        left (float): The x-coordinate of the starting point of the current arm.\n",
    "        right (float): The x-coordinate of the endpoint of the previous arm.\n",
    "        n (int): The number of arms in the spiral.\n",
    "\n",
    "    Returns:\n",
    "        float: The x-coordinate of the endpoint of the nth arm.\n",
    "    \"\"\"\n",
    "    # Base case: If n is 1, return the right endpoint\n",
    "    if n == 1:\n",
    "        return right\n",
    "\n",
    "    # Calculate the midpoint between the current left and right endpoints\n",
    "    mid = (left + right) / 2\n",
    "\n",
    "    # Update left and right endpoints for the next arm\n",
    "    left, right = right, mid\n",
    "\n",
    "    # Recursively call the function with updated endpoints and decreased n\n",
    "    return spiral_recursive(left, right, n - 1)"
   ]
  },
  {
   "cell_type": "code",
   "execution_count": 20,
   "metadata": {},
   "outputs": [
    {
     "name": "stdout",
     "output_type": "stream",
     "text": [
      "Spiral iterative result: 0.625\n",
      "Spiral recursive result: 0.625\n"
     ]
    }
   ],
   "source": [
    "# Example usage\n",
    "left_point = 0\n",
    "right_point = 1\n",
    "num_arms = 4\n",
    "\n",
    "# Calculate and print the results using both functions\n",
    "print(\n",
    "    f\"Spiral iterative result: {spiral_iterative(left_point, right_point, num_arms)}\")\n",
    "print(\n",
    "    f\"Spiral recursive result: {spiral_recursive(left_point, right_point, num_arms)}\")"
   ]
  },
  {
   "cell_type": "code",
   "execution_count": 21,
   "metadata": {},
   "outputs": [
    {
     "name": "stdout",
     "output_type": "stream",
     "text": [
      "Spiral iterative result: 0.6666666666666667\n",
      "Spiral recursive result: 0.6666666666666667\n"
     ]
    }
   ],
   "source": [
    "# Example usage\n",
    "left_point = 0\n",
    "right_point = 1\n",
    "num_arms = 100\n",
    "\n",
    "# Calculate and print the results using both functions\n",
    "print(\n",
    "    f\"Spiral iterative result: {spiral_iterative(left_point, right_point, num_arms)}\")\n",
    "print(\n",
    "    f\"Spiral recursive result: {spiral_recursive(left_point, right_point, num_arms)}\")"
   ]
  },
  {
   "cell_type": "code",
   "execution_count": 22,
   "metadata": {},
   "outputs": [
    {
     "name": "stdout",
     "output_type": "stream",
     "text": [
      "0\n"
     ]
    }
   ],
   "source": [
    "class SimpleVirtualMachine:\n",
    "    def __init__(self):\n",
    "        self.stack = []\n",
    "        self.program = []\n",
    "        self.ip = 0  # Instruction Pointer\n",
    "\n",
    "    def load_program(self, program):\n",
    "        self.program = program\n",
    "\n",
    "    def run(self):\n",
    "        self.execute()\n",
    "\n",
    "    def execute(self):\n",
    "        while self.ip < len(self.program):\n",
    "            instruction = self.program[self.ip]\n",
    "            self.ip += 1\n",
    "\n",
    "            if instruction == \"PUSH\":\n",
    "                value = self.program[self.ip]\n",
    "                self.ip += 1\n",
    "                self.stack.append(value)\n",
    "            elif instruction == \"POP\":\n",
    "                self.stack.pop()\n",
    "            elif instruction == \"ADD\":\n",
    "                self.stack.append(self.stack.pop() + self.stack.pop())\n",
    "            elif instruction == \"MUL\":\n",
    "                self.stack.append(self.stack.pop() * self.stack.pop())\n",
    "            elif instruction == \"PRINT\":\n",
    "                print(self.stack[-1])\n",
    "            elif instruction == \"JUMP\":\n",
    "                # Corrected the JUMP target index\n",
    "                self.ip = self.program[self.ip]\n",
    "\n",
    "\n",
    "# Corrected factorial program\n",
    "factorial_program = [\n",
    "    \"PUSH\", 1,          # Initialize the product to 1\n",
    "    \"PUSH\", 5,          # Push the factorial value (5)\n",
    "    \"PUSH\", 1,          # Push the initial value for the loop counter\n",
    "    \"JUMP\", 12,         # Jump to the loop check\n",
    "    \"MUL\",              # Multiply the product by the loop counter\n",
    "    \"PUSH\", 1,          # Push 1 to subtract from the loop counter\n",
    "    # Decrement the loop counter (SUB instruction is missing in the previous code)\n",
    "    \"SUB\",\n",
    "    \"PUSH\", 0,          # Push 0 to compare with loop counter\n",
    "    \"JGT\", 4,           # Jump back to the loop start if loop counter > 0\n",
    "    \"PRINT\"             # Print the factorial result\n",
    "]\n",
    "\n",
    "vm = SimpleVirtualMachine()\n",
    "vm.load_program(factorial_program)\n",
    "vm.run()"
   ]
  },
  {
   "cell_type": "code",
   "execution_count": 23,
   "metadata": {},
   "outputs": [
    {
     "name": "stdout",
     "output_type": "stream",
     "text": [
      "0\n"
     ]
    }
   ],
   "source": [
    "class SimpleVirtualMachine:\n",
    "    def __init__(self):\n",
    "        self.stack = []\n",
    "        self.program = []\n",
    "        self.ip = 0  # Instruction Pointer\n",
    "\n",
    "    def load_program(self, program):\n",
    "        self.program = program\n",
    "\n",
    "    def run(self):\n",
    "        self.execute()\n",
    "\n",
    "    def execute(self):\n",
    "        while self.ip < len(self.program):\n",
    "            instruction = self.program[self.ip]\n",
    "            self.ip += 1\n",
    "\n",
    "            if instruction == \"PUSH\":\n",
    "                value = self.program[self.ip]\n",
    "                self.ip += 1\n",
    "                self.stack.append(value)\n",
    "            elif instruction == \"POP\":\n",
    "                self.stack.pop()\n",
    "            elif instruction == \"ADD\":\n",
    "                self.stack.append(self.stack.pop() + self.stack.pop())\n",
    "            elif instruction == \"MUL\":\n",
    "                self.stack.append(self.stack.pop() * self.stack.pop())\n",
    "            elif instruction == \"PRINT\":\n",
    "                print(self.stack[-1])\n",
    "            elif instruction == \"JUMP\":\n",
    "                # Corrected the JUMP target index\n",
    "                self.ip = self.program[self.ip]\n",
    "\n",
    "\n",
    "# Corrected factorial program\n",
    "factorial_program = [\n",
    "    \"PUSH\", 1,          # Initialize the product to 1\n",
    "    \"PUSH\", 5,          # Push the factorial value (5)\n",
    "    \"PUSH\", 1,          # Push the initial value for the loop counter\n",
    "    \"JUMP\", 10,         # Jump to the loop check\n",
    "    \"MUL\",              # Multiply the product by the loop counter\n",
    "    \"PUSH\", 1,          # Push 1 to subtract from the loop counter\n",
    "    \"SUB\",              # Decrement the loop counter\n",
    "    \"PUSH\", 0,          # Push 0 to compare with loop counter\n",
    "    \"JGT\", 4,           # Jump back to the loop start if loop counter > 0\n",
    "    \"PRINT\"             # Print the factorial result\n",
    "]\n",
    "\n",
    "vm = SimpleVirtualMachine()\n",
    "vm.load_program(factorial_program)\n",
    "vm.run()"
   ]
  },
  {
   "cell_type": "code",
   "execution_count": 24,
   "metadata": {},
   "outputs": [
    {
     "name": "stdout",
     "output_type": "stream",
     "text": [
      "0\n"
     ]
    }
   ],
   "source": [
    "class SimpleVirtualMachine:\n",
    "    def __init__(self):\n",
    "        self.stack = []\n",
    "        self.program = []\n",
    "        self.ip = 0  # Instruction Pointer\n",
    "\n",
    "    def load_program(self, program):\n",
    "        self.program = program\n",
    "\n",
    "    def run(self):\n",
    "        self.execute()\n",
    "\n",
    "    def execute(self):\n",
    "        while self.ip < len(self.program):\n",
    "            instruction = self.program[self.ip]\n",
    "            self.ip += 1\n",
    "\n",
    "            if instruction == \"PUSH\":\n",
    "                value = self.program[self.ip]\n",
    "                self.ip += 1\n",
    "                self.stack.append(value)\n",
    "            elif instruction == \"POP\":\n",
    "                self.stack.pop()\n",
    "            elif instruction == \"ADD\":\n",
    "                self.stack.append(self.stack.pop() + self.stack.pop())\n",
    "            elif instruction == \"MUL\":\n",
    "                self.stack.append(self.stack.pop() * self.stack.pop())\n",
    "            elif instruction == \"PRINT\":\n",
    "                print(self.stack[-1])\n",
    "            elif instruction == \"JUMP\":\n",
    "                self.ip = self.program[self.ip]\n",
    "\n",
    "\n",
    "# Factorial program\n",
    "factorial_program = [\n",
    "    \"PUSH\", 1,      # Initialize the product to 1\n",
    "    \"PUSH\", 5,      # Push the factorial value (5)\n",
    "    \"PUSH\", 1,      # Push the initial value for the loop counter\n",
    "    \"JUMP\", 10,     # Jump to the loop check\n",
    "    \"MUL\",          # Multiply the product by the loop counter\n",
    "    \"PUSH\", 1,      # Push 1 to subtract from the loop counter\n",
    "    \"SUB\",          # Decrement the loop counter\n",
    "    \"PUSH\", 0,      # Push 0 to compare with loop counter\n",
    "    \"JGT\", 4,       # Jump back to the loop start if loop counter > 0\n",
    "    \"PRINT\"         # Print the factorial result\n",
    "]\n",
    "\n",
    "vm = SimpleVirtualMachine()\n",
    "vm.load_program(factorial_program)\n",
    "vm.run()"
   ]
  },
  {
   "cell_type": "code",
   "execution_count": 25,
   "metadata": {},
   "outputs": [
    {
     "name": "stdout",
     "output_type": "stream",
     "text": [
      "0\n"
     ]
    }
   ],
   "source": [
    "class SimpleVirtualMachine:\n",
    "    def __init__(self):\n",
    "        self.stack = []\n",
    "        self.program = []\n",
    "        self.ip = 0  # Instruction Pointer\n",
    "\n",
    "    def load_program(self, program):\n",
    "        self.program = program\n",
    "\n",
    "    def run(self):\n",
    "        self.execute()\n",
    "\n",
    "    def execute(self):\n",
    "        while self.ip < len(self.program):\n",
    "            instruction = self.program[self.ip]\n",
    "            self.ip += 1\n",
    "\n",
    "            if instruction == \"PUSH\":\n",
    "                value = self.program[self.ip]\n",
    "                self.ip += 1\n",
    "                self.stack.append(value)\n",
    "            elif instruction == \"POP\":\n",
    "                self.stack.pop()\n",
    "            elif instruction == \"ADD\":\n",
    "                self.stack.append(self.stack.pop() + self.stack.pop())\n",
    "            elif instruction == \"MUL\":\n",
    "                self.stack.append(self.stack.pop() * self.stack.pop())\n",
    "            elif instruction == \"PRINT\":\n",
    "                print(self.stack[-1])\n",
    "            elif instruction == \"JUMP\":\n",
    "                # Corrected the JUMP target index\n",
    "                self.ip = self.program[self.ip]\n",
    "\n",
    "\n",
    "# Corrected factorial program\n",
    "factorial_program = [\n",
    "    \"PUSH\", 1,          # Initialize the product to 1\n",
    "    \"PUSH\", 5,          # Push the factorial value (5)\n",
    "    \"PUSH\", 1,          # Push the initial value for the loop counter\n",
    "    \"JUMP\", 12,         # Jump to the loop check\n",
    "    \"MUL\",              # Multiply the product by the loop counter\n",
    "    \"PUSH\", 1,          # Push 1 to subtract from the loop counter\n",
    "    \"SUB\",              # Decrement the loop counter\n",
    "    \"PUSH\", 0,          # Push 0 to compare with loop counter\n",
    "    \"JGT\", 4,           # Jump back to the loop start if loop counter > 0\n",
    "    \"PRINT\"             # Print the factorial result\n",
    "]\n",
    "\n",
    "vm = SimpleVirtualMachine()\n",
    "vm.load_program(factorial_program)\n",
    "vm.run()"
   ]
  },
  {
   "cell_type": "code",
   "execution_count": 26,
   "metadata": {},
   "outputs": [],
   "source": [
    "names = ['Harikesh', 'Rahul', 'Sanika', 'Gauri', 'Kishan']"
   ]
  },
  {
   "cell_type": "code",
   "execution_count": 27,
   "metadata": {},
   "outputs": [
    {
     "name": "stdout",
     "output_type": "stream",
     "text": [
      "Rahul  \n",
      "Sanika  \n",
      "Gauri  \n"
     ]
    }
   ],
   "source": [
    "for name in names[1:-1]:\n",
    "    me = name\n",
    "    my_left = ''\n",
    "    my_right = ''\n",
    "    print(me, my_left, my_right)"
   ]
  },
  {
   "cell_type": "code",
   "execution_count": 28,
   "metadata": {},
   "outputs": [
    {
     "name": "stdout",
     "output_type": "stream",
     "text": [
      "1 Rahul Harikesh Sanika\n",
      "2 Sanika Rahul Gauri\n",
      "3 Gauri Sanika Kishan\n"
     ]
    }
   ],
   "source": [
    "for i in range(1, len(names) - 1):\n",
    "    me = names[i]\n",
    "    my_left = names[i-1]\n",
    "    my_right = names[i+1]\n",
    "    print(i, me, my_left, my_right)"
   ]
  },
  {
   "cell_type": "code",
   "execution_count": 29,
   "metadata": {},
   "outputs": [
    {
     "data": {
      "text/plain": [
       "2"
      ]
     },
     "execution_count": 29,
     "metadata": {},
     "output_type": "execute_result"
    }
   ],
   "source": [
    "heights = [1, 2, 3, 2, 1, 2, 5, 7, 4, 3, 8, 9]\n",
    "count = 0\n",
    "\n",
    "for i in range(1, len(heights) - 1):\n",
    "    if heights[i-1] < heights[i] > heights[i+1]:\n",
    "        count += 1\n",
    "\n",
    "count"
   ]
  },
  {
   "cell_type": "code",
   "execution_count": 30,
   "metadata": {},
   "outputs": [
    {
     "data": {
      "text/plain": [
       "[[1, 3, 2, 4], [11, 33, 22, 55]]"
      ]
     },
     "execution_count": 30,
     "metadata": {},
     "output_type": "execute_result"
    }
   ],
   "source": [
    "M = [[1, 2, 3, 4], [11, 22, 33, 55]]\n",
    "for row in M:\n",
    "    row[1], row[2] = row[2], row[1]\n",
    "\n",
    "M"
   ]
  },
  {
   "cell_type": "code",
   "execution_count": 31,
   "metadata": {},
   "outputs": [
    {
     "data": {
      "text/plain": [
       "[1, 3, 2, 4]"
      ]
     },
     "execution_count": 31,
     "metadata": {},
     "output_type": "execute_result"
    }
   ],
   "source": [
    "L1 = [1, 2, 3, 4]\n",
    "L1[1], L1[2] = L1[2], L1[1]\n",
    "L1"
   ]
  },
  {
   "cell_type": "code",
   "execution_count": 32,
   "metadata": {},
   "outputs": [
    {
     "data": {
      "text/plain": [
       "[11, 33, 22, 55]"
      ]
     },
     "execution_count": 32,
     "metadata": {},
     "output_type": "execute_result"
    }
   ],
   "source": [
    "L2 = [11, 22, 33, 55]\n",
    "L2[1], L2[2] = L2[2], L2[1]\n",
    "L2"
   ]
  },
  {
   "cell_type": "code",
   "execution_count": 33,
   "metadata": {},
   "outputs": [
    {
     "data": {
      "text/plain": [
       "[[1, 3, 2, 4], [11, 33, 22, 55]]"
      ]
     },
     "execution_count": 33,
     "metadata": {},
     "output_type": "execute_result"
    }
   ],
   "source": [
    "M2 = [L1, L2]\n",
    "M2"
   ]
  },
  {
   "cell_type": "code",
   "execution_count": 34,
   "metadata": {},
   "outputs": [
    {
     "name": "stdout",
     "output_type": "stream",
     "text": [
      "hi\n",
      "hi\n",
      "hi\n",
      "hi\n",
      "hi\n"
     ]
    }
   ],
   "source": [
    "print('hi')\n",
    "print('hi')\n",
    "print('hi')\n",
    "print('hi')\n",
    "print('hi')"
   ]
  },
  {
   "cell_type": "code",
   "execution_count": 35,
   "metadata": {},
   "outputs": [],
   "source": [
    "# list = [2, 3, 5, 7, 21, 818, 81]\n",
    "# for i in range(1000):\n",
    "#     print('hi')\n",
    "# def uniq(L):\n",
    "#     if 0 > 1:\n",
    "#         uniq()\n",
    "\n",
    "#     ans = []\n",
    "\n",
    "#     for i in range(len(L)):\n",
    "#         n = L[i]\n",
    "#         right = L[i+1:]\n",
    "\n",
    "#         print(f'{n=} {right=}')\n",
    "\n",
    "#         if right.count(n) == 0:\n",
    "#             ans.append(n)\n",
    "#             print('append:', n)\n",
    "\n",
    "#     return ans\n",
    "# uniq([1, 2, 3, 2, 1, 4])\n",
    "# def non_decreasing(L):\n",
    "#     if 0 > 1:\n",
    "#         non_decreasing()\n",
    "\n",
    "\n",
    "#     newL = L[:]\n",
    "#     newL.sort()\n",
    "\n",
    "#     return L == newL\n",
    "\n",
    "# def count(L, word):\n",
    "#     if 0 > 1:\n",
    "#         count(L, word)\n",
    "\n",
    "#     c = 0\n",
    "#     for w in L:\n",
    "#         if w == word:\n",
    "#             c += 1\n",
    "#     return c\n",
    "\n",
    "#     # newL = L[:]\n",
    "\n",
    "#     # return newL.count(word)"
   ]
  },
  {
   "cell_type": "code",
   "execution_count": 36,
   "metadata": {},
   "outputs": [
    {
     "name": "stdout",
     "output_type": "stream",
     "text": [
      "15\n"
     ]
    }
   ],
   "source": [
    "L = [1, 2, 3, 4, 5]\n",
    "\n",
    "print(sum(L))"
   ]
  },
  {
   "cell_type": "code",
   "execution_count": 37,
   "metadata": {},
   "outputs": [],
   "source": [
    "input_file = open('1-5.txt', 'r')\n",
    "\n",
    "L = input_file.read().split('\\n')\n",
    "\n",
    "L = [int(x) for x in L]\n",
    "\n",
    "ans = sum(L)\n",
    "\n",
    "input_file.close()\n",
    "\n",
    "out_file = open('ans.txt', 'w')\n",
    "\n",
    "out_file.write(str(ans))\n",
    "\n",
    "out_file.close()"
   ]
  },
  {
   "cell_type": "code",
   "execution_count": 38,
   "metadata": {},
   "outputs": [],
   "source": [
    "L = open('1-5.txt').read().split('\\n')\n",
    "L = [int(x) for x in L]\n",
    "\n",
    "out_file = open('ans.txt', 'w')\n",
    "out_file.write(\n",
    "    str(sum(L))\n",
    ")\n",
    "\n",
    "out_file.close()"
   ]
  },
  {
   "cell_type": "code",
   "execution_count": 39,
   "metadata": {},
   "outputs": [
    {
     "data": {
      "text/plain": [
       "[1, 2, 3]"
      ]
     },
     "execution_count": 39,
     "metadata": {},
     "output_type": "execute_result"
    }
   ],
   "source": [
    "L = ['1', '2', '3']\n",
    "\n",
    "L = list(map(int, L))\n",
    "\n",
    "L"
   ]
  },
  {
   "cell_type": "code",
   "execution_count": 40,
   "metadata": {},
   "outputs": [
    {
     "data": {
      "text/plain": [
       "[1, 2, 3]"
      ]
     },
     "execution_count": 40,
     "metadata": {},
     "output_type": "execute_result"
    }
   ],
   "source": [
    "L = ['1', '2', '3']\n",
    "L = [int(x) for x in L]\n",
    "\n",
    "L"
   ]
  },
  {
   "cell_type": "code",
   "execution_count": 41,
   "metadata": {},
   "outputs": [
    {
     "ename": "ModuleNotFoundError",
     "evalue": "No module named 'numpy'",
     "output_type": "error",
     "traceback": [
      "\u001b[1;31m---------------------------------------------------------------------------\u001b[0m",
      "\u001b[1;31mModuleNotFoundError\u001b[0m                       Traceback (most recent call last)",
      "Cell \u001b[1;32mIn[41], line 1\u001b[0m\n\u001b[1;32m----> 1\u001b[0m \u001b[39mimport\u001b[39;00m \u001b[39mnumpy\u001b[39;00m \u001b[39mas\u001b[39;00m \u001b[39mnp\u001b[39;00m\n",
      "\u001b[1;31mModuleNotFoundError\u001b[0m: No module named 'numpy'"
     ]
    }
   ],
   "source": [
    "import numpy as np"
   ]
  },
  {
   "cell_type": "code",
   "execution_count": null,
   "metadata": {},
   "outputs": [],
   "source": [
    "arr2 = [1, 2, 3]"
   ]
  },
  {
   "cell_type": "code",
   "execution_count": null,
   "metadata": {},
   "outputs": [
    {
     "data": {
      "text/plain": [
       "[1, 2, 3]"
      ]
     },
     "execution_count": 8,
     "metadata": {},
     "output_type": "execute_result"
    }
   ],
   "source": [
    "arr = list([1, 2, 3])\n",
    "arr"
   ]
  },
  {
   "cell_type": "code",
   "execution_count": null,
   "metadata": {},
   "outputs": [
    {
     "data": {
      "text/plain": [
       "array([1, 2, 3])"
      ]
     },
     "execution_count": 9,
     "metadata": {},
     "output_type": "execute_result"
    }
   ],
   "source": [
    "arr = np.array([1, 2, 3])\n",
    "arr"
   ]
  },
  {
   "cell_type": "code",
   "execution_count": null,
   "metadata": {},
   "outputs": [
    {
     "data": {
      "text/plain": [
       "[1, 2, 3, 10, 10, 10]"
      ]
     },
     "execution_count": 10,
     "metadata": {},
     "output_type": "execute_result"
    }
   ],
   "source": [
    "l1 = [1, 2, 3]\n",
    "l2 = [10, 10, 10]\n",
    "\n",
    "l1 + l2"
   ]
  },
  {
   "cell_type": "code",
   "execution_count": null,
   "metadata": {},
   "outputs": [
    {
     "data": {
      "text/plain": [
       "array([11, 12, 13])"
      ]
     },
     "execution_count": 11,
     "metadata": {},
     "output_type": "execute_result"
    }
   ],
   "source": [
    "l1 = np.array([1, 2, 3])\n",
    "l2 = np.array([10, 10, 10])\n",
    "\n",
    "l1 + l2"
   ]
  },
  {
   "cell_type": "code",
   "execution_count": null,
   "metadata": {},
   "outputs": [
    {
     "ename": "TypeError",
     "evalue": "unsupported operand type(s) for /: 'list' and 'list'",
     "output_type": "error",
     "traceback": [
      "\u001b[1;31m---------------------------------------------------------------------------\u001b[0m",
      "\u001b[1;31mTypeError\u001b[0m                                 Traceback (most recent call last)",
      "Cell \u001b[1;32mIn[14], line 4\u001b[0m\n\u001b[0;32m      1\u001b[0m l1 \u001b[39m=\u001b[39m [\u001b[39m1\u001b[39m, \u001b[39m2\u001b[39m, \u001b[39m3\u001b[39m]\n\u001b[0;32m      2\u001b[0m l2 \u001b[39m=\u001b[39m [\u001b[39m10\u001b[39m, \u001b[39m10\u001b[39m, \u001b[39m10\u001b[39m]\n\u001b[1;32m----> 4\u001b[0m l1 \u001b[39m/\u001b[39;49m l2\n",
      "\u001b[1;31mTypeError\u001b[0m: unsupported operand type(s) for /: 'list' and 'list'"
     ]
    }
   ],
   "source": [
    "# l1 = [1, 2, 3]\n",
    "# l2 = [10, 10, 10]\n",
    "\n",
    "# l1 / l2"
   ]
  },
  {
   "cell_type": "code",
   "execution_count": null,
   "metadata": {},
   "outputs": [
    {
     "data": {
      "text/plain": [
       "array([100, 100, 100])"
      ]
     },
     "execution_count": 23,
     "metadata": {},
     "output_type": "execute_result"
    }
   ],
   "source": [
    "l1 = np.array([1, 2, 3])\n",
    "l2 = np.array([10, 10, 10])\n",
    "\n",
    "l2 ** 2"
   ]
  },
  {
   "cell_type": "code",
   "execution_count": null,
   "metadata": {},
   "outputs": [
    {
     "data": {
      "text/plain": [
       "[1, 4, 9]"
      ]
     },
     "execution_count": 20,
     "metadata": {},
     "output_type": "execute_result"
    }
   ],
   "source": [
    "l1 = [1, 2, 3]\n",
    "\n",
    "[x ** 2 for x in l1]"
   ]
  },
  {
   "cell_type": "code",
   "execution_count": null,
   "metadata": {},
   "outputs": [
    {
     "data": {
      "text/plain": [
       "[1, 2, 'hello', {1, 3, 12}, {'key1': 'xyz'}, [9, 7, 2]]"
      ]
     },
     "execution_count": 26,
     "metadata": {},
     "output_type": "execute_result"
    }
   ],
   "source": [
    "l1 = [1, 2, 'hello', set([1, 1, 1, 12, 3]), {'key1': 'xyz'}, [9, 7, 2]]\n",
    "\n",
    "l1"
   ]
  },
  {
   "cell_type": "code",
   "execution_count": null,
   "metadata": {},
   "outputs": [
    {
     "data": {
      "text/plain": [
       "15"
      ]
     },
     "execution_count": 63,
     "metadata": {},
     "output_type": "execute_result"
    },
    {
     "data": {
      "text/plain": [
       "3"
      ]
     },
     "execution_count": 63,
     "metadata": {},
     "output_type": "execute_result"
    },
    {
     "data": {
      "text/plain": [
       "3"
      ]
     },
     "execution_count": 63,
     "metadata": {},
     "output_type": "execute_result"
    },
    {
     "data": {
      "text/plain": [
       "(3, 5, 1)"
      ]
     },
     "execution_count": 63,
     "metadata": {},
     "output_type": "execute_result"
    },
    {
     "data": {
      "text/plain": [
       "dtype('float64')"
      ]
     },
     "execution_count": 63,
     "metadata": {},
     "output_type": "execute_result"
    },
    {
     "data": {
      "text/plain": [
       "'float64'"
      ]
     },
     "execution_count": 63,
     "metadata": {},
     "output_type": "execute_result"
    }
   ],
   "source": [
    "l1 = np.array([\n",
    "    [\n",
    "        [9], [9.1], [9], [9], [9.3],\n",
    "    ],\n",
    "\n",
    "    [\n",
    "        [9], [2.1], [9], [9], [9],\n",
    "    ],\n",
    "\n",
    "    [\n",
    "        [9], [9], [9], [9], [9],\n",
    "    ],\n",
    "])\n",
    "\n",
    "l1.size\n",
    "l1.ndim\n",
    "len(l1)\n",
    "l1.shape\n",
    "l1.dtype\n",
    "l1.dtype.name"
   ]
  },
  {
   "cell_type": "code",
   "execution_count": null,
   "metadata": {},
   "outputs": [
    {
     "data": {
      "text/plain": [
       "array([[[9. ],\n",
       "        [9.1],\n",
       "        [9. ],\n",
       "        [9. ],\n",
       "        [9.3]],\n",
       "\n",
       "       [[9. ],\n",
       "        [2.1],\n",
       "        [9. ],\n",
       "        [9. ],\n",
       "        [9. ]],\n",
       "\n",
       "       [[9. ],\n",
       "        [9. ],\n",
       "        [9. ],\n",
       "        [9. ],\n",
       "        [9. ]]])"
      ]
     },
     "execution_count": 64,
     "metadata": {},
     "output_type": "execute_result"
    }
   ],
   "source": [
    "l1"
   ]
  },
  {
   "cell_type": "code",
   "execution_count": null,
   "metadata": {},
   "outputs": [
    {
     "data": {
      "text/plain": [
       "array([[[9],\n",
       "        [9],\n",
       "        [9],\n",
       "        [9],\n",
       "        [9]],\n",
       "\n",
       "       [[9],\n",
       "        [2],\n",
       "        [9],\n",
       "        [9],\n",
       "        [9]],\n",
       "\n",
       "       [[9],\n",
       "        [9],\n",
       "        [9],\n",
       "        [9],\n",
       "        [9]]])"
      ]
     },
     "execution_count": 65,
     "metadata": {},
     "output_type": "execute_result"
    }
   ],
   "source": [
    "l1.astype(int)"
   ]
  },
  {
   "cell_type": "code",
   "execution_count": null,
   "metadata": {},
   "outputs": [
    {
     "data": {
      "text/plain": [
       "array([-5, -4, -3])"
      ]
     },
     "execution_count": 71,
     "metadata": {},
     "output_type": "execute_result"
    },
    {
     "data": {
      "text/plain": [
       "array([50, 60, 70])"
      ]
     },
     "execution_count": 71,
     "metadata": {},
     "output_type": "execute_result"
    }
   ],
   "source": [
    "l1 = np.array([5, 6, 7])\n",
    "l2 = np.array([10, 10, 10])\n",
    "\n",
    "l1 - l2\n",
    "l2 * l1"
   ]
  },
  {
   "cell_type": "code",
   "execution_count": null,
   "metadata": {},
   "outputs": [
    {
     "data": {
      "text/plain": [
       "array([ 148.4131591 ,  403.42879349, 1096.63315843])"
      ]
     },
     "execution_count": 72,
     "metadata": {},
     "output_type": "execute_result"
    },
    {
     "data": {
      "text/plain": [
       "array([2.23606798, 2.44948974, 2.64575131])"
      ]
     },
     "execution_count": 72,
     "metadata": {},
     "output_type": "execute_result"
    },
    {
     "data": {
      "text/plain": [
       "array([-0.95892427, -0.2794155 ,  0.6569866 ])"
      ]
     },
     "execution_count": 72,
     "metadata": {},
     "output_type": "execute_result"
    },
    {
     "data": {
      "text/plain": [
       "array([0.28366219, 0.96017029, 0.75390225])"
      ]
     },
     "execution_count": 72,
     "metadata": {},
     "output_type": "execute_result"
    },
    {
     "data": {
      "text/plain": [
       "array([1.60943791, 1.79175947, 1.94591015])"
      ]
     },
     "execution_count": 72,
     "metadata": {},
     "output_type": "execute_result"
    }
   ],
   "source": [
    "l1 = np.array([5, 6, 7])\n",
    "\n",
    "np.exp(l1)\n",
    "\n",
    "np.sqrt(l1)\n",
    "\n",
    "np.sin(l1)\n",
    "\n",
    "np.cos(l1)\n",
    "\n",
    "np.log(l1)"
   ]
  },
  {
   "cell_type": "code",
   "execution_count": null,
   "metadata": {},
   "outputs": [
    {
     "data": {
      "text/plain": [
       "180"
      ]
     },
     "execution_count": 73,
     "metadata": {},
     "output_type": "execute_result"
    }
   ],
   "source": [
    "l1 = np.array([5, 6, 7])\n",
    "l2 = np.array([10, 10, 10])\n",
    "\n",
    "l1.dot(l2)"
   ]
  },
  {
   "cell_type": "code",
   "execution_count": null,
   "metadata": {},
   "outputs": [
    {
     "data": {
      "text/plain": [
       "<matplotlib.collections.PathCollection at 0x193330b2b10>"
      ]
     },
     "execution_count": 81,
     "metadata": {},
     "output_type": "execute_result"
    },
    {
     "data": {
      "image/png": "[encoded data removed]",
      "text/plain": [
       "<Figure size 640x480 with 1 Axes>"
      ]
     },
     "metadata": {},
     "output_type": "display_data"
    }
   ],
   "source": [
    "import matplotlib.pyplot as plt\n",
    "\n",
    "x = np.linspace(0, 100, 50)\n",
    "y = x ** 2\n",
    "\n",
    "plt.scatter(x, y)\n",
    "plt.show()"
   ]
  },
  {
   "cell_type": "code",
   "execution_count": null,
   "metadata": {},
   "outputs": [
    {
     "data": {
      "text/plain": [
       "<matplotlib.collections.PathCollection at 0x19333258a10>"
      ]
     },
     "execution_count": 83,
     "metadata": {},
     "output_type": "execute_result"
    },
    {
     "data": {
      "image/png": "[encoded data removed]",
      "text/plain": [
       "<Figure size 640x480 with 1 Axes>"
      ]
     },
     "metadata": {},
     "output_type": "display_data"
    }
   ],
   "source": [
    "import matplotlib.pyplot as plt\n",
    "\n",
    "x = [2, 4, 5]\n",
    "y = [2, 4, 5]\n",
    "\n",
    "plt.scatter(x, y)\n",
    "plt.show()"
   ]
  },
  {
   "cell_type": "code",
   "execution_count": null,
   "metadata": {},
   "outputs": [
    {
     "data": {
      "text/plain": [
       "<BarContainer object of 3 artists>"
      ]
     },
     "execution_count": 98,
     "metadata": {},
     "output_type": "execute_result"
    },
    {
     "data": {
      "image/png": "[encoded data removed]",
      "text/plain": [
       "<Figure size 640x480 with 1 Axes>"
      ]
     },
     "metadata": {},
     "output_type": "display_data"
    }
   ],
   "source": [
    "x = ['A', 'B', 'C']\n",
    "y = [70, 40, 200]\n",
    "\n",
    "plt.bar(x, y)\n",
    "plt.show()"
   ]
  },
  {
   "cell_type": "code",
   "execution_count": null,
   "metadata": {},
   "outputs": [],
   "source": [
    "x = ['A', 'B', 'C']\n",
    "y = [70, 40, 200]\n",
    "\n",
    "plt.barh(x, y)\n",
    "plt.show()"
   ]
  },
  {
   "cell_type": "code",
   "execution_count": null,
   "metadata": {},
   "outputs": [
    {
     "data": {
      "text/plain": [
       "(array([2., 1., 2., 0., 0., 1., 1., 0., 0., 1.]),\n",
       " array([ 1. ,  2.4,  3.8,  5.2,  6.6,  8. ,  9.4, 10.8, 12.2, 13.6, 15. ]),\n",
       " <BarContainer object of 10 artists>)"
      ]
     },
     "execution_count": 89,
     "metadata": {},
     "output_type": "execute_result"
    },
    {
     "data": {
      "image/png": "[encoded data removed]",
      "text/plain": [
       "<Figure size 640x480 with 1 Axes>"
      ]
     },
     "metadata": {},
     "output_type": "display_data"
    }
   ],
   "source": [
    "# x = np.random(10)\n",
    "\n",
    "plt.hist(x)\n",
    "plt.show()"
   ]
  },
  {
   "cell_type": "code",
   "execution_count": null,
   "metadata": {},
   "outputs": [
    {
     "data": {
      "text/plain": [
       "(array([11., 11., 25., 36., 61., 47., 27., 19.,  8.,  5.]),\n",
       " array([45.69167016, 50.99598128, 56.3002924 , 61.60460352, 66.90891464,\n",
       "        72.21322576, 77.51753688, 82.82184801, 88.12615913, 93.43047025,\n",
       "        98.73478137]),\n",
       " <BarContainer object of 10 artists>)"
      ]
     },
     "execution_count": 94,
     "metadata": {},
     "output_type": "execute_result"
    },
    {
     "data": {
      "image/png": "[encoded data removed]",
      "text/plain": [
       "<Figure size 640x480 with 1 Axes>"
      ]
     },
     "metadata": {},
     "output_type": "display_data"
    }
   ],
   "source": [
    "x = np.random.normal(70, 10, 250)\n",
    "\n",
    "plt.hist(x)\n",
    "plt.show()"
   ]
  },
  {
   "cell_type": "code",
   "execution_count": null,
   "metadata": {},
   "outputs": [
    {
     "data": {
      "text/plain": [
       "([<matplotlib.patches.Wedge at 0x193367edbd0>,\n",
       "  <matplotlib.patches.Wedge at 0x193367eec10>,\n",
       "  <matplotlib.patches.Wedge at 0x193367eff50>],\n",
       " [Text(0.1720779013721078, 1.086457176265761, 'A'),\n",
       "  Text(-1.0864571843213078, 0.1720778505113769, 'B'),\n",
       "  Text(0.777817532129725, -0.7778173864806729, 'C')])"
      ]
     },
     "execution_count": 97,
     "metadata": {},
     "output_type": "execute_result"
    },
    {
     "data": {
      "image/png": "[encoded data removed]",
      "text/plain": [
       "<Figure size 640x480 with 1 Axes>"
      ]
     },
     "metadata": {},
     "output_type": "display_data"
    }
   ],
   "source": [
    "x = [20, 30, 50]\n",
    "labels = ['A', 'B', 'C']\n",
    "\n",
    "plt.pie(x, labels=labels, startangle=45)\n",
    "plt.show()"
   ]
  }
 ],
 "metadata": {
  "kernelspec": {
   "display_name": "Python 3 (ipykernel)",
   "language": "python",
   "name": "python3"
  },
  "language_info": {
   "codemirror_mode": {
    "name": "ipython",
    "version": 3
   },
   "file_extension": ".py",
   "mimetype": "text/x-python",
   "name": "python",
   "nbconvert_exporter": "python",
   "pygments_lexer": "ipython3",
   "version": "3.11.5"
  }
 },
 "nbformat": 4,
 "nbformat_minor": 4
}
