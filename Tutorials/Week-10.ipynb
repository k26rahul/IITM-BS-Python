{
 "cells": [
  {
   "cell_type": "code",
   "execution_count": 24,
   "metadata": {},
   "outputs": [],
   "source": [
    "class Zookeeper:\n",
    "    def __init__(self, name, age):\n",
    "        self.name = name\n",
    "        self.age = age\n",
    "        self.enclosures = []"
   ]
  },
  {
   "cell_type": "code",
   "execution_count": 25,
   "metadata": {},
   "outputs": [],
   "source": [
    "class Animal:\n",
    "    def __init__(self, species, diet):\n",
    "        self.species = species\n",
    "        self.diet = diet"
   ]
  },
  {
   "cell_type": "code",
   "execution_count": 26,
   "metadata": {},
   "outputs": [],
   "source": [
    "class Enclosure:\n",
    "    def __init__(self, name, size):\n",
    "        self.name = name\n",
    "        self.size = size\n",
    "        self.animals = []"
   ]
  },
  {
   "cell_type": "code",
   "execution_count": 27,
   "metadata": {},
   "outputs": [],
   "source": [
    "# Creating zookeepers\n",
    "zookeeper1 = Zookeeper(\"Alice\", 28)\n",
    "zookeeper2 = Zookeeper(\"Bob\", 34)"
   ]
  },
  {
   "cell_type": "code",
   "execution_count": 28,
   "metadata": {},
   "outputs": [],
   "source": [
    "# Creating animals\n",
    "lion = Animal(\"Lion\", \"Carnivore\")\n",
    "elephant = Animal(\"Elephant\", \"Herbivore\")\n",
    "giraffe = Animal(\"Giraffe\", \"Herbivore\")\n",
    "tiger = Animal(\"Tiger\", \"Carnivore\")\n",
    "zebra = Animal(\"Zebra\", \"Herbivore\")\n",
    "panda = Animal(\"Panda\", \"Herbivore\")\n",
    "gorilla = Animal(\"Gorilla\", \"Omnivore\")\n",
    "rhinoceros = Animal(\"Rhino\", \"Herbivore\")\n",
    "kangaroo = Animal(\"Kangaroo\", \"Herbivore\")\n",
    "cheetah = Animal(\"Cheetah\", \"Carnivore\")\n",
    "dolphin = Animal(\"Dolphin\", \"Carnivore\")\n",
    "shark = Animal(\"Shark\", \"Carnivore\")\n",
    "seal = Animal(\"Seal\", \"Carnivore\")"
   ]
  },
  {
   "cell_type": "code",
   "execution_count": 29,
   "metadata": {},
   "outputs": [],
   "source": [
    "# Creating enclosures\n",
    "savannah_enclosure = Enclosure(\"Savannah\", \"Large\")\n",
    "rainforest_enclosure = Enclosure(\"Rainforest\", \"Medium\")\n",
    "jungle_enclosure = Enclosure(\"Jungle\", \"Large\")\n",
    "aquatic_enclosure = Enclosure(\"Aquatic\", \"Huge\")"
   ]
  },
  {
   "cell_type": "code",
   "execution_count": 30,
   "metadata": {},
   "outputs": [],
   "source": [
    "# Adding animals to enclosures\n",
    "savannah_enclosure.animals.extend([lion, zebra, kangaroo, cheetah])\n",
    "rainforest_enclosure.animals.extend([giraffe, panda, gorilla, tiger])\n",
    "jungle_enclosure.animals.extend([elephant, rhinoceros])\n",
    "aquatic_enclosure.animals.extend([dolphin, shark, seal])"
   ]
  },
  {
   "cell_type": "code",
   "execution_count": 31,
   "metadata": {},
   "outputs": [],
   "source": [
    "# Assigning enclosures to zookeepers\n",
    "zookeeper1.enclosures.extend([savannah_enclosure, rainforest_enclosure])\n",
    "zookeeper2.enclosures.extend([jungle_enclosure, aquatic_enclosure])"
   ]
  },
  {
   "cell_type": "code",
   "execution_count": 32,
   "metadata": {},
   "outputs": [],
   "source": [
    "# Creating a list of zookeepers\n",
    "zookeepers = [zookeeper1, zookeeper2]"
   ]
  },
  {
   "cell_type": "code",
   "execution_count": 33,
   "metadata": {},
   "outputs": [],
   "source": [
    "# Creating the zoo dictionary\n",
    "zoo = {\n",
    "    \"name\": \"My Awesome Zoo\",\n",
    "    \"location\": \"Cityville\",\n",
    "    \"zookeepers\": zookeepers\n",
    "}"
   ]
  },
  {
   "cell_type": "code",
   "execution_count": 34,
   "metadata": {},
   "outputs": [
    {
     "name": "stdout",
     "output_type": "stream",
     "text": [
      "{'name': 'My Awesome Zoo', 'location': 'Cityville', 'zookeepers': [<__main__.Zookeeper object at 0x0000017D720D3B10>, <__main__.Zookeeper object at 0x0000017D728712D0>]}\n"
     ]
    }
   ],
   "source": [
    "# Printing the zoo dictionary\n",
    "print(zoo)"
   ]
  },
  {
   "cell_type": "code",
   "execution_count": 35,
   "metadata": {},
   "outputs": [
    {
     "name": "stdout",
     "output_type": "stream",
     "text": [
      "<__main__.Zookeeper object at 0x0000017D720D3B10>\n"
     ]
    }
   ],
   "source": [
    "print(zoo['zookeepers'][0])"
   ]
  },
  {
   "cell_type": "code",
   "execution_count": 37,
   "metadata": {},
   "outputs": [
    {
     "name": "stdout",
     "output_type": "stream",
     "text": [
      "Alice\n"
     ]
    }
   ],
   "source": [
    "print(zoo['zookeepers'][0].name)"
   ]
  },
  {
   "cell_type": "code",
   "execution_count": 39,
   "metadata": {},
   "outputs": [
    {
     "name": "stdout",
     "output_type": "stream",
     "text": [
      "Savannah\n"
     ]
    }
   ],
   "source": [
    "print(zoo['zookeepers'][0].enclosures[0].name)"
   ]
  },
  {
   "cell_type": "code",
   "execution_count": 40,
   "metadata": {},
   "outputs": [
    {
     "name": "stdout",
     "output_type": "stream",
     "text": [
      "Lion\n"
     ]
    }
   ],
   "source": [
    "print(zoo['zookeepers'][0].enclosures[0].animals[0].species)"
   ]
  }
 ],
 "metadata": {
  "kernelspec": {
   "display_name": "Python 3 (ipykernel)",
   "language": "python",
   "name": "python3"
  },
  "language_info": {
   "codemirror_mode": {
    "name": "ipython",
    "version": 3
   },
   "file_extension": ".py",
   "mimetype": "text/x-python",
   "name": "python",
   "nbconvert_exporter": "python",
   "pygments_lexer": "ipython3",
   "version": "3.11.4"
  }
 },
 "nbformat": 4,
 "nbformat_minor": 4
}
