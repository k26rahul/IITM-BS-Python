{
 "cells": [
  {
   "cell_type": "code",
   "execution_count": null,
   "metadata": {},
   "outputs": [],
   "source": [
    "def balanced(word):\n",
    "    stack = []  # A stack to keep track of opening parentheses\n",
    "\n",
    "    for char in word:\n",
    "        if char in \"({[\":\n",
    "            stack.append(char)  # Push opening parentheses onto the stack\n",
    "        else:\n",
    "            if not stack:\n",
    "                return False  # Unbalanced if there's no opening parenthesis to match\n",
    "            last_open = stack.pop()  # Pop the last opening parenthesis\n",
    "\n",
    "            parentheses_matches = {\n",
    "                ')': '(',\n",
    "                ']': '[',\n",
    "                '}': '{',\n",
    "            }\n",
    "\n",
    "            # Check if the opening and closing parentheses match\n",
    "            if parentheses_matches[char] != last_open:\n",
    "                return False\n",
    "\n",
    "    return not stack  # Balanced if stack is empty at the end"
   ]
  },
  {
   "cell_type": "code",
   "execution_count": null,
   "metadata": {},
   "outputs": [
    {
     "name": "stdout",
     "output_type": "stream",
     "text": [
      "True\n",
      "False\n"
     ]
    }
   ],
   "source": [
    "print(balanced(\"{[()]}\"))  # Output: True\n",
    "print(balanced(\"{[(])}\"))  # Output: False"
   ]
  }
 ],
 "metadata": {
  "language_info": {
   "name": "python"
  },
  "orig_nbformat": 4
 },
 "nbformat": 4,
 "nbformat_minor": 2
}
